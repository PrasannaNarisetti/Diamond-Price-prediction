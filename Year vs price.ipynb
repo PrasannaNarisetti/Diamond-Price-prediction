{
 "cells": [
  {
   "cell_type": "code",
   "execution_count": 1,
   "id": "26b26145",
   "metadata": {},
   "outputs": [
    {
     "data": {
      "text/html": [
       "<div>\n",
       "<style scoped>\n",
       "    .dataframe tbody tr th:only-of-type {\n",
       "        vertical-align: middle;\n",
       "    }\n",
       "\n",
       "    .dataframe tbody tr th {\n",
       "        vertical-align: top;\n",
       "    }\n",
       "\n",
       "    .dataframe thead th {\n",
       "        text-align: right;\n",
       "    }\n",
       "</style>\n",
       "<table border=\"1\" class=\"dataframe\">\n",
       "  <thead>\n",
       "    <tr style=\"text-align: right;\">\n",
       "      <th></th>\n",
       "      <th>cut</th>\n",
       "      <th>carat</th>\n",
       "      <th>clarity</th>\n",
       "      <th>color</th>\n",
       "      <th>2005price</th>\n",
       "      <th>2007price</th>\n",
       "    </tr>\n",
       "  </thead>\n",
       "  <tbody>\n",
       "    <tr>\n",
       "      <th>0</th>\n",
       "      <td>Brilliant</td>\n",
       "      <td>1.50</td>\n",
       "      <td>SI2</td>\n",
       "      <td>F</td>\n",
       "      <td>9250</td>\n",
       "      <td>8390</td>\n",
       "    </tr>\n",
       "    <tr>\n",
       "      <th>1</th>\n",
       "      <td>Brilliant</td>\n",
       "      <td>1.01</td>\n",
       "      <td>VS2</td>\n",
       "      <td>I</td>\n",
       "      <td>5850</td>\n",
       "      <td>5350</td>\n",
       "    </tr>\n",
       "    <tr>\n",
       "      <th>2</th>\n",
       "      <td>Brilliant</td>\n",
       "      <td>0.92</td>\n",
       "      <td>SI2</td>\n",
       "      <td>E</td>\n",
       "      <td>4950</td>\n",
       "      <td>4000</td>\n",
       "    </tr>\n",
       "    <tr>\n",
       "      <th>3</th>\n",
       "      <td>Brilliant</td>\n",
       "      <td>0.52</td>\n",
       "      <td>SI1</td>\n",
       "      <td>F</td>\n",
       "      <td>1595</td>\n",
       "      <td>1280</td>\n",
       "    </tr>\n",
       "    <tr>\n",
       "      <th>4</th>\n",
       "      <td>Brilliant</td>\n",
       "      <td>0.51</td>\n",
       "      <td>VVS1</td>\n",
       "      <td>H</td>\n",
       "      <td>2059</td>\n",
       "      <td>1570</td>\n",
       "    </tr>\n",
       "  </tbody>\n",
       "</table>\n",
       "</div>"
      ],
      "text/plain": [
       "         cut  carat clarity color  2005price  2007price\n",
       "0  Brilliant   1.50     SI2     F       9250       8390\n",
       "1  Brilliant   1.01     VS2     I       5850       5350\n",
       "2  Brilliant   0.92     SI2     E       4950       4000\n",
       "3  Brilliant   0.52     SI1     F       1595       1280\n",
       "4  Brilliant   0.51    VVS1     H       2059       1570"
      ]
     },
     "execution_count": 1,
     "metadata": {},
     "output_type": "execute_result"
    }
   ],
   "source": [
    "import pandas as pd\n",
    "import numpy as np\n",
    "import seaborn as sns\n",
    "df = pd.DataFrame(pd.read_excel(\"C:/Users/PRASANNA/Documents/2005VS2007.xlsx\"))\n",
    "df.head()"
   ]
  },
  {
   "cell_type": "code",
   "execution_count": 2,
   "id": "c7a71608",
   "metadata": {},
   "outputs": [
    {
     "data": {
      "image/png": "[encoded data removed]",
      "text/plain": [
       "<Figure size 418.375x180 with 2 Axes>"
      ]
     },
     "metadata": {
      "needs_background": "light"
     },
     "output_type": "display_data"
    }
   ],
   "source": [
    "import matplotlib.pyplot as plt\n",
    "sns.pairplot(df, hue='carat' , y_vars = ['carat'])\n",
    "plt.show()"
   ]
  },
  {
   "cell_type": "code",
   "execution_count": 3,
   "id": "c178c422",
   "metadata": {},
   "outputs": [
    {
     "data": {
      "image/png": "[encoded data removed]",
      "text/plain": [
       "<Figure size 432x288 with 1 Axes>"
      ]
     },
     "metadata": {
      "needs_background": "light"
     },
     "output_type": "display_data"
    }
   ],
   "source": [
    "X = df['carat']\n",
    "Y = df['2005price']\n",
    "Z = df['2007price']\n",
    "X_axis = np.arange(len(X))  \n",
    "\n",
    "plt.bar(X_axis -0.2,Y,0.4,label = '2005price')\n",
    "plt.bar(X_axis +0.2,Z,0.4,label = '2007price')\n",
    "\n",
    "plt.xticks(X_axis, X)  \n",
    "plt.xlabel(\"carat\")\n",
    "plt.ylabel(\"Price differences\")\n",
    "plt.title(\"Diamond price fluctuations 2005 Vs 2007\")\n",
    "plt.legend()\n",
    "plt.show()"
   ]
  },
  {
   "cell_type": "code",
   "execution_count": null,
   "id": "ee463fc1",
   "metadata": {},
   "outputs": [],
   "source": []
  }
 ],
 "metadata": {
  "kernelspec": {
   "display_name": "Python 3 (ipykernel)",
   "language": "python",
   "name": "python3"
  },
  "language_info": {
   "codemirror_mode": {
    "name": "ipython",
    "version": 3
   },
   "file_extension": ".py",
   "mimetype": "text/x-python",
   "name": "python",
   "nbconvert_exporter": "python",
   "pygments_lexer": "ipython3",
   "version": "3.9.12"
  }
 },
 "nbformat": 4,
 "nbformat_minor": 5
}
